{
  "nbformat": 4,
  "nbformat_minor": 0,
  "metadata": {
    "colab": {
      "name": "Amazon_Reviews_ETL.ipynb",
      "provenance": [],
      "collapsed_sections": []
    },
    "kernelspec": {
      "name": "python3",
      "display_name": "Python 3"
    },
    "nteract": {
      "version": "0.12.3"
    },
    "language_info": {
      "name": "python"
    }
  },
  "cells": [
    {
      "cell_type": "code",
      "metadata": {
        "id": "V58rxea0HqSa",
        "colab": {
          "base_uri": "https://localhost:8080/"
        },
        "outputId": "94a00cc8-a7b5-4969-c3c7-807288fad444"
      },
      "source": [
        "import os\n",
        "# Find the latest version of spark 3.0 from http://www.apache.org/dist/spark/ and enter as the spark version\n",
        "# For example:\n",
        "# spark_version = 'spark-3.0.3'\n",
        "spark_version = 'spark-3.0.3'\n",
        "os.environ['SPARK_VERSION']=spark_version\n",
        "\n",
        "# Install Spark and Java\n",
        "!apt-get update\n",
        "!apt-get install openjdk-11-jdk-headless -qq > /dev/null\n",
        "!wget -q http://www.apache.org/dist/spark/$SPARK_VERSION/$SPARK_VERSION-bin-hadoop2.7.tgz\n",
        "!tar xf $SPARK_VERSION-bin-hadoop2.7.tgz\n",
        "!pip install -q findspark\n",
        "\n",
        "# Set Environment Variables\n",
        "import os\n",
        "os.environ[\"JAVA_HOME\"] = \"/usr/lib/jvm/java-11-openjdk-amd64\"\n",
        "os.environ[\"SPARK_HOME\"] = f\"/content/{spark_version}-bin-hadoop2.7\"\n",
        "\n",
        "# Start a SparkSession\n",
        "import findspark\n",
        "findspark.init()"
      ],
      "execution_count": 35,
      "outputs": [
        {
          "output_type": "stream",
          "name": "stdout",
          "text": [
            "\r0% [Working]\r            \rHit:1 https://cloud.r-project.org/bin/linux/ubuntu bionic-cran40/ InRelease\n",
            "Ign:2 https://developer.download.nvidia.com/compute/cuda/repos/ubuntu1804/x86_64  InRelease\n",
            "Hit:3 http://ppa.launchpad.net/c2d4u.team/c2d4u4.0+/ubuntu bionic InRelease\n",
            "Get:4 http://security.ubuntu.com/ubuntu bionic-security InRelease [88.7 kB]\n",
            "Ign:5 https://developer.download.nvidia.com/compute/machine-learning/repos/ubuntu1804/x86_64  InRelease\n",
            "Hit:6 http://archive.ubuntu.com/ubuntu bionic InRelease\n",
            "Hit:7 https://developer.download.nvidia.com/compute/cuda/repos/ubuntu1804/x86_64  Release\n",
            "Hit:8 https://developer.download.nvidia.com/compute/machine-learning/repos/ubuntu1804/x86_64  Release\n",
            "Get:9 http://archive.ubuntu.com/ubuntu bionic-updates InRelease [88.7 kB]\n",
            "Hit:10 http://ppa.launchpad.net/cran/libgit2/ubuntu bionic InRelease\n",
            "Hit:11 http://ppa.launchpad.net/deadsnakes/ppa/ubuntu bionic InRelease\n",
            "Get:12 http://archive.ubuntu.com/ubuntu bionic-backports InRelease [74.6 kB]\n",
            "Hit:13 http://ppa.launchpad.net/graphics-drivers/ppa/ubuntu bionic InRelease\n",
            "Get:16 http://security.ubuntu.com/ubuntu bionic-security/main amd64 Packages [2,461 kB]\n",
            "Fetched 2,713 kB in 3s (996 kB/s)\n",
            "Reading package lists... Done\n"
          ]
        }
      ]
    },
    {
      "cell_type": "code",
      "metadata": {
        "id": "_xKwTpATHqSe",
        "colab": {
          "base_uri": "https://localhost:8080/"
        },
        "outputId": "f3b6d549-ff41-42ce-c391-ff9a988229ad"
      },
      "source": [
        "# Download the Postgres driver that will allow Spark to interact with Postgres.\n",
        "!wget https://jdbc.postgresql.org/download/postgresql-42.2.16.jar"
      ],
      "execution_count": 36,
      "outputs": [
        {
          "output_type": "stream",
          "name": "stdout",
          "text": [
            "--2021-12-13 18:34:49--  https://jdbc.postgresql.org/download/postgresql-42.2.16.jar\n",
            "Resolving jdbc.postgresql.org (jdbc.postgresql.org)... 72.32.157.228, 2001:4800:3e1:1::228\n",
            "Connecting to jdbc.postgresql.org (jdbc.postgresql.org)|72.32.157.228|:443... connected.\n",
            "HTTP request sent, awaiting response... 200 OK\n",
            "Length: 1002883 (979K) [application/java-archive]\n",
            "Saving to: ‘postgresql-42.2.16.jar.1’\n",
            "\n",
            "postgresql-42.2.16. 100%[===================>] 979.38K  --.-KB/s    in 0.1s    \n",
            "\n",
            "2021-12-13 18:34:50 (6.52 MB/s) - ‘postgresql-42.2.16.jar.1’ saved [1002883/1002883]\n",
            "\n"
          ]
        }
      ]
    },
    {
      "cell_type": "code",
      "metadata": {
        "id": "MMqDAjVS0KN9"
      },
      "source": [
        "from pyspark.sql import SparkSession\n",
        "spark = SparkSession.builder.appName(\"M16-Amazon-Challenge\").config(\"spark.driver.extraClassPath\",\"/content/postgresql-42.2.16.jar\").getOrCreate()"
      ],
      "execution_count": 37,
      "outputs": []
    },
    {
      "cell_type": "markdown",
      "metadata": {
        "id": "cyBsySGuY-9V"
      },
      "source": [
        "### Load Amazon Data into Spark DataFrame"
      ]
    },
    {
      "cell_type": "code",
      "metadata": {
        "id": "CtCmBhQJY-9Z",
        "colab": {
          "base_uri": "https://localhost:8080/"
        },
        "outputId": "96283450-35d6-4a19-b6cc-1e6ac395ba53"
      },
      "source": [
        "from pyspark import SparkFiles\n",
        "url = \"https://s3.amazonaws.com/amazon-reviews-pds/tsv/amazon_reviews_us_Home_v1_00.tsv.gz\"\n",
        "spark.sparkContext.addFile(url)\n",
        "df = spark.read.option(\"encoding\", \"UTF-8\").csv(SparkFiles.get(\"\"), sep=\"\\t\", header=True, inferSchema=True)\n",
        "df.show()"
      ],
      "execution_count": 38,
      "outputs": [
        {
          "output_type": "stream",
          "name": "stdout",
          "text": [
            "+-----------+-----------+--------------+----------+--------------+--------------------+----------------+-----------+-------------+-----------+----+-----------------+--------------------+--------------------+-----------+\n",
            "|marketplace|customer_id|     review_id|product_id|product_parent|       product_title|product_category|star_rating|helpful_votes|total_votes|vine|verified_purchase|     review_headline|         review_body|review_date|\n",
            "+-----------+-----------+--------------+----------+--------------+--------------------+----------------+-----------+-------------+-----------+----+-----------------+--------------------+--------------------+-----------+\n",
            "|         US|   33670092|R1UUISQ1GKOJTI|B00EE62UAE|     583436067|Trademark Home Po...|            Home|          1|            0|          0|   N|                Y|                 Run|Don't buy it clap...| 2015-08-31|\n",
            "|         US|   13726692|R1HOJ9WE8VCVOD|B001APXO5C|     465035091|O2-Cool 10-Inch P...|            Home|          5|            9|          9|   N|                Y|Love it, really c...|Love this ,I boug...| 2015-08-31|\n",
            "|         US|   50131396| RDNGVXMWQN2TN|B002HFDLCK|     136507891|Hoover Vacuum Cle...|            Home|          5|            0|          0|   N|                Y|          Five Stars|Nice style, color...| 2015-08-31|\n",
            "|         US|   16046884|R3OM9COQMVTDJ2|B00PL9EFPQ|     631238459|Banksy Pile of Ri...|            Home|          2|            0|          0|   N|                Y|Love Banksy's wor...|Meeeh. Love Banks...| 2015-08-31|\n",
            "|         US|   11417282|R3OFUQVR4Y80Q9|B00B5TPVQS|     190431573|SkyScan Atomic Wa...|            Home|          4|            0|          0|   N|                N|A silent second h...|Review by John Cr...| 2015-08-31|\n",
            "|         US|   48013430|R2GD25SBBGRKPO|B00NQDGHDC|     124050883|Mellanni Bed Shee...|            Home|          5|            0|          0|   N|                Y|I am very pleased...|I am very pleased...| 2015-08-31|\n",
            "|         US|    7341516|R3RRSLYKVWH9WB|B00I3BYEXM|     933053612|Hippie Hobo Sling...|            Home|          5|            0|          0|   N|                Y|          Five Stars|LOVE THIS SO VERY...| 2015-08-31|\n",
            "|         US|   20696954|R2HMFAGJJU6NT3|B008QZD7RY|      77515396|OluKai Hokua Sand...|            Home|          5|            0|          0|   N|                Y|          Five Stars|           Love them| 2015-08-31|\n",
            "|         US|   28241302|R2QDRZATHBY4GY|B00TQ6MXE0|     267158600|Melrose Ivory Ant...|            Home|          1|            0|          0|   N|                Y|Not the color I e...|This is a nice sh...| 2015-08-31|\n",
            "|         US|   45444347|R107946YZK57Q2|B004O39RJ4|     473994651|Home Basics 6-Pie...|            Home|          2|            0|          0|   N|                Y|Two mugs came chi...|Two mugs came chi...| 2015-08-31|\n",
            "|         US|   15080335|R31EK6FUI5YAL1|B003LZ09C0|     945333576|La Crosse Technol...|            Home|          5|            0|          0|   N|                Y|          Five Stars|Works great, it a...| 2015-08-31|\n",
            "|         US|   12081067|R2PCO0R2FKDQLD|B00I56KQV4|     383995956|Cozy Beddings 3-P...|            Home|          5|            0|          0|   N|                Y|          Five Stars|Exactly as I expe...| 2015-08-31|\n",
            "|         US|   26317120|R3HR2Y7RR8NWL0|B00GS6ENAS|     255999883|Tools of the Trad...|            Home|          4|            0|          0|   N|                Y|          Four Stars|    met expectations| 2015-08-31|\n",
            "|         US|   37523392|R2D2NATNTV6VBD|B00S9X17SY|     142926812|Clara Clark Premi...|            Home|          3|            0|          0|   N|                Y|        Pretty color|Very silky feelin...| 2015-08-31|\n",
            "|         US|   36990227| RKB0AGB0GJ693|B001R1RXUG|     237680897|Honeywell HT-908 ...|            Home|          5|            0|          0|   N|                Y|          Five Stars|Works great for t...| 2015-08-31|\n",
            "|         US|    8273344| RN6VOEZIS9SRX|B008T19WSS|     395315543|2 pcs .925 Sterli...|            Home|          5|            0|          0|   N|                Y|          Five Stars|          love these| 2015-08-31|\n",
            "|         US|   45448526|R31I8XK53JBAQ2|B011A4X754|     751900773|Artficial Pachyve...|            Home|          4|            0|          0|   N|                Y|          Four Stars|Good length. Very...| 2015-08-31|\n",
            "|         US|   28088591|R2R2Y989GKB6QH|B00DDIKBQO|     764331420|Pinzon Blackout C...|            Home|          5|            0|          0|   N|                Y|          Five Stars|        Works great!| 2015-08-31|\n",
            "|         US|   20276397|R12WZKURAV2VEY|B00F3T165Q|     962537263|Rit Dye Liquid Dy...|            Home|          5|            0|          0|   N|                Y|            Love it!|Been using this f...| 2015-08-31|\n",
            "|         US|     123327| RX2EMR0I821HW|B006C6FC6S|     279696452|The Original Slee...|            Home|          2|            0|          0|   N|                Y|           Two Stars|Ehh. Not sure why...| 2015-08-31|\n",
            "+-----------+-----------+--------------+----------+--------------+--------------------+----------------+-----------+-------------+-----------+----+-----------------+--------------------+--------------------+-----------+\n",
            "only showing top 20 rows\n",
            "\n"
          ]
        }
      ]
    },
    {
      "cell_type": "markdown",
      "metadata": {
        "id": "2yUSe55VY-9t"
      },
      "source": [
        "### Create DataFrames to match tables"
      ]
    },
    {
      "cell_type": "code",
      "metadata": {
        "id": "C8REmY1aY-9u",
        "colab": {
          "base_uri": "https://localhost:8080/"
        },
        "outputId": "0ddf5b21-3da2-48cf-a5e1-d662d927c642"
      },
      "source": [
        "from pyspark.sql.functions import to_date\n",
        "# Read in the Review dataset as a DataFrame\n",
        "df = spark.read.option(\"encoding\", \"UTF-8\").csv(SparkFiles.get(\"\"), sep=\"\\t\", header=True, inferSchema=True)\n",
        "df.show()"
      ],
      "execution_count": 39,
      "outputs": [
        {
          "output_type": "stream",
          "name": "stdout",
          "text": [
            "+-----------+-----------+--------------+----------+--------------+--------------------+----------------+-----------+-------------+-----------+----+-----------------+--------------------+--------------------+-----------+\n",
            "|marketplace|customer_id|     review_id|product_id|product_parent|       product_title|product_category|star_rating|helpful_votes|total_votes|vine|verified_purchase|     review_headline|         review_body|review_date|\n",
            "+-----------+-----------+--------------+----------+--------------+--------------------+----------------+-----------+-------------+-----------+----+-----------------+--------------------+--------------------+-----------+\n",
            "|         US|   33670092|R1UUISQ1GKOJTI|B00EE62UAE|     583436067|Trademark Home Po...|            Home|          1|            0|          0|   N|                Y|                 Run|Don't buy it clap...| 2015-08-31|\n",
            "|         US|   13726692|R1HOJ9WE8VCVOD|B001APXO5C|     465035091|O2-Cool 10-Inch P...|            Home|          5|            9|          9|   N|                Y|Love it, really c...|Love this ,I boug...| 2015-08-31|\n",
            "|         US|   50131396| RDNGVXMWQN2TN|B002HFDLCK|     136507891|Hoover Vacuum Cle...|            Home|          5|            0|          0|   N|                Y|          Five Stars|Nice style, color...| 2015-08-31|\n",
            "|         US|   16046884|R3OM9COQMVTDJ2|B00PL9EFPQ|     631238459|Banksy Pile of Ri...|            Home|          2|            0|          0|   N|                Y|Love Banksy's wor...|Meeeh. Love Banks...| 2015-08-31|\n",
            "|         US|   11417282|R3OFUQVR4Y80Q9|B00B5TPVQS|     190431573|SkyScan Atomic Wa...|            Home|          4|            0|          0|   N|                N|A silent second h...|Review by John Cr...| 2015-08-31|\n",
            "|         US|   48013430|R2GD25SBBGRKPO|B00NQDGHDC|     124050883|Mellanni Bed Shee...|            Home|          5|            0|          0|   N|                Y|I am very pleased...|I am very pleased...| 2015-08-31|\n",
            "|         US|    7341516|R3RRSLYKVWH9WB|B00I3BYEXM|     933053612|Hippie Hobo Sling...|            Home|          5|            0|          0|   N|                Y|          Five Stars|LOVE THIS SO VERY...| 2015-08-31|\n",
            "|         US|   20696954|R2HMFAGJJU6NT3|B008QZD7RY|      77515396|OluKai Hokua Sand...|            Home|          5|            0|          0|   N|                Y|          Five Stars|           Love them| 2015-08-31|\n",
            "|         US|   28241302|R2QDRZATHBY4GY|B00TQ6MXE0|     267158600|Melrose Ivory Ant...|            Home|          1|            0|          0|   N|                Y|Not the color I e...|This is a nice sh...| 2015-08-31|\n",
            "|         US|   45444347|R107946YZK57Q2|B004O39RJ4|     473994651|Home Basics 6-Pie...|            Home|          2|            0|          0|   N|                Y|Two mugs came chi...|Two mugs came chi...| 2015-08-31|\n",
            "|         US|   15080335|R31EK6FUI5YAL1|B003LZ09C0|     945333576|La Crosse Technol...|            Home|          5|            0|          0|   N|                Y|          Five Stars|Works great, it a...| 2015-08-31|\n",
            "|         US|   12081067|R2PCO0R2FKDQLD|B00I56KQV4|     383995956|Cozy Beddings 3-P...|            Home|          5|            0|          0|   N|                Y|          Five Stars|Exactly as I expe...| 2015-08-31|\n",
            "|         US|   26317120|R3HR2Y7RR8NWL0|B00GS6ENAS|     255999883|Tools of the Trad...|            Home|          4|            0|          0|   N|                Y|          Four Stars|    met expectations| 2015-08-31|\n",
            "|         US|   37523392|R2D2NATNTV6VBD|B00S9X17SY|     142926812|Clara Clark Premi...|            Home|          3|            0|          0|   N|                Y|        Pretty color|Very silky feelin...| 2015-08-31|\n",
            "|         US|   36990227| RKB0AGB0GJ693|B001R1RXUG|     237680897|Honeywell HT-908 ...|            Home|          5|            0|          0|   N|                Y|          Five Stars|Works great for t...| 2015-08-31|\n",
            "|         US|    8273344| RN6VOEZIS9SRX|B008T19WSS|     395315543|2 pcs .925 Sterli...|            Home|          5|            0|          0|   N|                Y|          Five Stars|          love these| 2015-08-31|\n",
            "|         US|   45448526|R31I8XK53JBAQ2|B011A4X754|     751900773|Artficial Pachyve...|            Home|          4|            0|          0|   N|                Y|          Four Stars|Good length. Very...| 2015-08-31|\n",
            "|         US|   28088591|R2R2Y989GKB6QH|B00DDIKBQO|     764331420|Pinzon Blackout C...|            Home|          5|            0|          0|   N|                Y|          Five Stars|        Works great!| 2015-08-31|\n",
            "|         US|   20276397|R12WZKURAV2VEY|B00F3T165Q|     962537263|Rit Dye Liquid Dy...|            Home|          5|            0|          0|   N|                Y|            Love it!|Been using this f...| 2015-08-31|\n",
            "|         US|     123327| RX2EMR0I821HW|B006C6FC6S|     279696452|The Original Slee...|            Home|          2|            0|          0|   N|                Y|           Two Stars|Ehh. Not sure why...| 2015-08-31|\n",
            "+-----------+-----------+--------------+----------+--------------+--------------------+----------------+-----------+-------------+-----------+----+-----------------+--------------------+--------------------+-----------+\n",
            "only showing top 20 rows\n",
            "\n"
          ]
        }
      ]
    },
    {
      "cell_type": "code",
      "metadata": {
        "id": "B0TESUDRY-90",
        "colab": {
          "base_uri": "https://localhost:8080/"
        },
        "outputId": "d6ca8f47-c845-4098-8b2c-e06393725b07"
      },
      "source": [
        "# Create the customers_table DataFrame\n",
        "customers_df = df.groupby(\"customer_id\").agg({\"customer_id\":\"count\"}).withColumnRenamed(\"count(customer_id)\", \"customer_count\")\n",
        "customers_df.show()"
      ],
      "execution_count": 40,
      "outputs": [
        {
          "output_type": "stream",
          "name": "stdout",
          "text": [
            "+-----------+--------------+\n",
            "|customer_id|customer_count|\n",
            "+-----------+--------------+\n",
            "|   28241302|             1|\n",
            "|   15991768|             1|\n",
            "|   17067926|             7|\n",
            "|    8905239|             3|\n",
            "|   51794064|             1|\n",
            "|   33132797|             3|\n",
            "|   21325555|             1|\n",
            "|    1574612|             1|\n",
            "|   12819130|             3|\n",
            "|   44224073|             1|\n",
            "|   16679709|             1|\n",
            "|   10742726|             1|\n",
            "|   52391013|             2|\n",
            "|   38209321|            10|\n",
            "|    2545142|             1|\n",
            "|   52918362|             6|\n",
            "|   47663761|             3|\n",
            "|   25031530|            21|\n",
            "|   29476112|             1|\n",
            "|   51496479|             1|\n",
            "+-----------+--------------+\n",
            "only showing top 20 rows\n",
            "\n"
          ]
        }
      ]
    },
    {
      "cell_type": "code",
      "metadata": {
        "id": "4FwXA6UvY-96",
        "colab": {
          "base_uri": "https://localhost:8080/"
        },
        "outputId": "3b9f73ae-4299-4818-f4b8-545c96f287c7"
      },
      "source": [
        "# Create the products_table DataFrame and drop duplicates. \n",
        "from pyspark.sql import Row\n",
        "products_df = df.select(['product_id', 'product_title']).drop_duplicates()\n",
        "products_df.show()"
      ],
      "execution_count": 41,
      "outputs": [
        {
          "output_type": "stream",
          "name": "stdout",
          "text": [
            "+----------+--------------------+\n",
            "|product_id|       product_title|\n",
            "+----------+--------------------+\n",
            "|B0000635WI|Leachco Snoogle O...|\n",
            "|B00B14LI5U|Stretchy Beading ...|\n",
            "|B00JOTC23Q|Coats Yarn Red He...|\n",
            "|B00FXOFLXO|Lasko 1843 18\" Re...|\n",
            "|B00V3PU6QE|Estilo Mini Count...|\n",
            "|B00BLY6POE|HOUSWEETY 12pc Mi...|\n",
            "|B00JRH758M|SHARP Refurbished...|\n",
            "|B00DUVTYDU|InterDesign Tor T...|\n",
            "|B00HOWO7E2|Wieco Art - White...|\n",
            "|B00M669V9W|Good Grips Compac...|\n",
            "|B00HIZK5EQ|Splash Home 4-Pie...|\n",
            "|B0118OQJHO|Pink Box Metallic...|\n",
            "|B00GU8QKNW|One Vietnamese So...|\n",
            "|B002V9195S|Pro-Mart DAZZ 42-...|\n",
            "|B009I1CLKO|Crystal Allies Ma...|\n",
            "|B00QD8LF20|The Big One® Supe...|\n",
            "|B001DHXU9C|Dimensions Needle...|\n",
            "|B00LGZVMSM|Wood Carving Chis...|\n",
            "|B00MHW49ZG|Blue Donuts Multi...|\n",
            "|B0042TMUC6|LA Linen 54-Inch ...|\n",
            "+----------+--------------------+\n",
            "only showing top 20 rows\n",
            "\n"
          ]
        }
      ]
    },
    {
      "cell_type": "markdown",
      "source": [
        ""
      ],
      "metadata": {
        "id": "dEkSpVZgCwNH"
      }
    },
    {
      "cell_type": "code",
      "metadata": {
        "id": "MkqyCuNQY-9-",
        "colab": {
          "base_uri": "https://localhost:8080/"
        },
        "outputId": "6c3753e8-b168-4de9-869a-169a9057f746"
      },
      "source": [
        "# Create the review_id_table DataFrame. \n",
        "# Convert the 'review_date' column to a date datatype with to_date(\"review_date\", 'yyyy-MM-dd').alias(\"review_date\")\n",
        "review_id_df = df.select(['review_id', 'customer_id', 'product_id', 'product_parent', to_date(\"review_date\", 'yyyy-MM-dd').alias(\"review_date\")])\n",
        "review_id_df.show()"
      ],
      "execution_count": 42,
      "outputs": [
        {
          "output_type": "stream",
          "name": "stdout",
          "text": [
            "+--------------+-----------+----------+--------------+-----------+\n",
            "|     review_id|customer_id|product_id|product_parent|review_date|\n",
            "+--------------+-----------+----------+--------------+-----------+\n",
            "|R1UUISQ1GKOJTI|   33670092|B00EE62UAE|     583436067| 2015-08-31|\n",
            "|R1HOJ9WE8VCVOD|   13726692|B001APXO5C|     465035091| 2015-08-31|\n",
            "| RDNGVXMWQN2TN|   50131396|B002HFDLCK|     136507891| 2015-08-31|\n",
            "|R3OM9COQMVTDJ2|   16046884|B00PL9EFPQ|     631238459| 2015-08-31|\n",
            "|R3OFUQVR4Y80Q9|   11417282|B00B5TPVQS|     190431573| 2015-08-31|\n",
            "|R2GD25SBBGRKPO|   48013430|B00NQDGHDC|     124050883| 2015-08-31|\n",
            "|R3RRSLYKVWH9WB|    7341516|B00I3BYEXM|     933053612| 2015-08-31|\n",
            "|R2HMFAGJJU6NT3|   20696954|B008QZD7RY|      77515396| 2015-08-31|\n",
            "|R2QDRZATHBY4GY|   28241302|B00TQ6MXE0|     267158600| 2015-08-31|\n",
            "|R107946YZK57Q2|   45444347|B004O39RJ4|     473994651| 2015-08-31|\n",
            "|R31EK6FUI5YAL1|   15080335|B003LZ09C0|     945333576| 2015-08-31|\n",
            "|R2PCO0R2FKDQLD|   12081067|B00I56KQV4|     383995956| 2015-08-31|\n",
            "|R3HR2Y7RR8NWL0|   26317120|B00GS6ENAS|     255999883| 2015-08-31|\n",
            "|R2D2NATNTV6VBD|   37523392|B00S9X17SY|     142926812| 2015-08-31|\n",
            "| RKB0AGB0GJ693|   36990227|B001R1RXUG|     237680897| 2015-08-31|\n",
            "| RN6VOEZIS9SRX|    8273344|B008T19WSS|     395315543| 2015-08-31|\n",
            "|R31I8XK53JBAQ2|   45448526|B011A4X754|     751900773| 2015-08-31|\n",
            "|R2R2Y989GKB6QH|   28088591|B00DDIKBQO|     764331420| 2015-08-31|\n",
            "|R12WZKURAV2VEY|   20276397|B00F3T165Q|     962537263| 2015-08-31|\n",
            "| RX2EMR0I821HW|     123327|B006C6FC6S|     279696452| 2015-08-31|\n",
            "+--------------+-----------+----------+--------------+-----------+\n",
            "only showing top 20 rows\n",
            "\n"
          ]
        }
      ]
    },
    {
      "cell_type": "code",
      "metadata": {
        "id": "lzMmkdKmY--D",
        "colab": {
          "base_uri": "https://localhost:8080/"
        },
        "outputId": "45a25316-0ff6-44e7-b9e1-8d8e6fd00778"
      },
      "source": [
        "# Create the vine_table. DataFrame\n",
        "vine_df = df.select(['review_id', 'star_rating', 'helpful_votes', 'total_votes', 'vine', 'verified_purchase'])\n",
        "vine_df.show()"
      ],
      "execution_count": 43,
      "outputs": [
        {
          "output_type": "stream",
          "name": "stdout",
          "text": [
            "+--------------+-----------+-------------+-----------+----+-----------------+\n",
            "|     review_id|star_rating|helpful_votes|total_votes|vine|verified_purchase|\n",
            "+--------------+-----------+-------------+-----------+----+-----------------+\n",
            "|R1UUISQ1GKOJTI|          1|            0|          0|   N|                Y|\n",
            "|R1HOJ9WE8VCVOD|          5|            9|          9|   N|                Y|\n",
            "| RDNGVXMWQN2TN|          5|            0|          0|   N|                Y|\n",
            "|R3OM9COQMVTDJ2|          2|            0|          0|   N|                Y|\n",
            "|R3OFUQVR4Y80Q9|          4|            0|          0|   N|                N|\n",
            "|R2GD25SBBGRKPO|          5|            0|          0|   N|                Y|\n",
            "|R3RRSLYKVWH9WB|          5|            0|          0|   N|                Y|\n",
            "|R2HMFAGJJU6NT3|          5|            0|          0|   N|                Y|\n",
            "|R2QDRZATHBY4GY|          1|            0|          0|   N|                Y|\n",
            "|R107946YZK57Q2|          2|            0|          0|   N|                Y|\n",
            "|R31EK6FUI5YAL1|          5|            0|          0|   N|                Y|\n",
            "|R2PCO0R2FKDQLD|          5|            0|          0|   N|                Y|\n",
            "|R3HR2Y7RR8NWL0|          4|            0|          0|   N|                Y|\n",
            "|R2D2NATNTV6VBD|          3|            0|          0|   N|                Y|\n",
            "| RKB0AGB0GJ693|          5|            0|          0|   N|                Y|\n",
            "| RN6VOEZIS9SRX|          5|            0|          0|   N|                Y|\n",
            "|R31I8XK53JBAQ2|          4|            0|          0|   N|                Y|\n",
            "|R2R2Y989GKB6QH|          5|            0|          0|   N|                Y|\n",
            "|R12WZKURAV2VEY|          5|            0|          0|   N|                Y|\n",
            "| RX2EMR0I821HW|          2|            0|          0|   N|                Y|\n",
            "+--------------+-----------+-------------+-----------+----+-----------------+\n",
            "only showing top 20 rows\n",
            "\n"
          ]
        }
      ]
    },
    {
      "cell_type": "markdown",
      "metadata": {
        "id": "jITZhLkmY--J"
      },
      "source": [
        "### Connect to the AWS RDS instance and write each DataFrame to its table. "
      ]
    },
    {
      "cell_type": "code",
      "metadata": {
        "id": "7jiUvs1aY--L"
      },
      "source": [
        "# Configure settings for RDS\n",
        "mode = \"append\"\n",
        "jdbc_url=\"jdbc:postgresql://<connection>:5432/reviews\"\n",
        "config = {\"user\":\"postgres\", \n",
        "          \"password\": \"*********\", \n",
        "          \"driver\":\"org.postgresql.Driver\"}"
      ],
      "execution_count": 44,
      "outputs": []
    },
    {
      "cell_type": "code",
      "metadata": {
        "id": "T2zgZ-aKY--Q"
      },
      "source": [
        "# Write review_id_df to table in RDS\n",
        "review_id_df.write.jdbc(url=jdbc_url, table='review_id_table', mode=mode, properties=config)"
      ],
      "execution_count": null,
      "outputs": []
    },
    {
      "cell_type": "code",
      "source": [
        "# Write products_df to table in RDS\n",
        "# about 3 min\n",
        "products_df.write.jdbc(url=jdbc_url, table='products_table', mode=mode, properties=config)"
      ],
      "metadata": {
        "id": "UiIDHDgrLD-f"
      },
      "execution_count": null,
      "outputs": []
    },
    {
      "cell_type": "code",
      "metadata": {
        "id": "KbXri15fY--Z"
      },
      "source": [
        "# Write customers_df to table in RDS\n",
        "# 5 min 14 s\n",
        "customers_df.write.jdbc(url=jdbc_url, table='customers_table', mode=mode, properties=config)"
      ],
      "execution_count": null,
      "outputs": []
    },
    {
      "cell_type": "code",
      "metadata": {
        "id": "XdQknSHLY--e"
      },
      "source": [
        "# Write vine_df to table in RDS\n",
        "# 11 minutes\n",
        "vine_df.write.jdbc(url=jdbc_url, table='vine_table', mode=mode, properties=config)"
      ],
      "execution_count": null,
      "outputs": []
    },
    {
      "cell_type": "markdown",
      "source": [
        "Deliverable 2"
      ],
      "metadata": {
        "id": "iDcUnzaNaibS"
      }
    },
    {
      "cell_type": "code",
      "source": [
        "total_votes_df=df.filter(df[\"total_votes\"] >= 20)\n",
        "total_votes_df.show()"
      ],
      "metadata": {
        "colab": {
          "base_uri": "https://localhost:8080/"
        },
        "id": "pYKRrrGxaJeV",
        "outputId": "1fcdf522-3658-49d1-b2a3-d5f28f2f4caf"
      },
      "execution_count": 59,
      "outputs": [
        {
          "output_type": "stream",
          "name": "stdout",
          "text": [
            "+-----------+-----------+--------------+----------+--------------+--------------------+----------------+-----------+-------------+-----------+----+-----------------+--------------------+--------------------+-----------+\n",
            "|marketplace|customer_id|     review_id|product_id|product_parent|       product_title|product_category|star_rating|helpful_votes|total_votes|vine|verified_purchase|     review_headline|         review_body|review_date|\n",
            "+-----------+-----------+--------------+----------+--------------+--------------------+----------------+-----------+-------------+-----------+----+-----------------+--------------------+--------------------+-----------+\n",
            "|         US|   32555853|R27XX9MG7OWSSM|B00CMV99HU|     475264259|5 x 20 Quality Ca...|            Home|          5|           49|         51|   N|                Y|Made Curtains out...|I bought these fo...| 2015-08-31|\n",
            "|         US|   24278614|R1I4IFDOW6IW9O|B00ZAUWZ6M|     195636450|Ellington Home 18...|            Home|          3|           44|         47|   N|                Y|Thin, slightly pl...|Ordered this for ...| 2015-08-31|\n",
            "|         US|   35722247|R2LZAV3VMLGPGS|B00LLI8RGO|      16515808|All for You 3pc R...|            Home|          3|           32|         33|   N|                Y|Nice design but W...|I ordered the Kin...| 2015-08-31|\n",
            "|         US|   40740421|R3FITR2BQI94RA|B00NCL0MAC|     361959449|Deluxe Chrome-pla...|            Home|          5|           33|         38|   N|                Y|Perfect for Limit...|I live in an apar...| 2015-08-31|\n",
            "|         US|   39387962| RWYBT1R3KPD2M|B00W2KG92Y|     150649056|Frigidaire FFRA05...|            Home|          4|          142|        163|   N|                Y|         Great Value|I'm running it in...| 2015-08-31|\n",
            "|         US|   20587147| RE4023DS92U8H|B00ZTC56L2|     705315070|Wrap-a-Nap - Trav...|            Home|          5|           26|         27|   N|                Y|My Somnolent Side...|Among the most di...| 2015-08-31|\n",
            "|         US|   12624787|R25TLB0EXZ7DJZ|B00RSGE0TG|     123292063|Superior 100% Dow...|            Home|          5|           45|         46|   N|                Y|... but I have to...|I don't usually l...| 2015-08-31|\n",
            "|         US|   29138872|R3BEQIBG1OQ7RT|B00MMQOZ1U|     827850997|SterlingPro Doubl...|            Home|          2|            3|         22|   N|                Y|It does not work ...|Some reviewers me...| 2015-08-31|\n",
            "|         US|   25498346|R1SQKXYWU7VMW1|B00J4IDGA0|     936370623|No. 918 Cory Cott...|            Home|          2|           23|         24|   N|                Y|Snagged before re...|I really liked th...| 2015-08-31|\n",
            "|         US|   35097285| RUL6FPHYI15TA|B008HVHJDA|     685385061|O-Cedar Dual Acti...|            Home|          2|           62|         70|   N|                Y|           Two Stars|Cheaper at Costco...| 2015-08-31|\n",
            "|         US|   29045609|R1K2O880XPCW4V|B00VGMAT0W|     220671246|Janome Merlot Sew...|            Home|          2|           26|         27|   N|                Y|impossible to bal...|I wanted a small ...| 2015-08-31|\n",
            "|         US|   28078123|R2KA15AG14I5I5|B002KCO96C|     233597090|Dirt Devil SD2000...|            Home|          5|           72|         81|   N|                Y|Great little ligh...|Like This Very Mu...| 2015-08-31|\n",
            "|         US|   42690023|R3VCE57VVGPHHA|B006J23ORO|     923896332|InterDesign Cameo...|            Home|          5|           69|         71|   N|                Y|     Strong and long|I bought this rod...| 2015-08-31|\n",
            "|         US|   46068082|R3GEWL61MS0MVE|B00UHIY7J0|      55699168|Generic I Love Yo...|            Home|          5|           23|         24|   N|                Y|                LOVE|Love it! Very sof...| 2015-08-31|\n",
            "|         US|   45292393|R1X06G0PTXOA61|B00T56FK96|     765211067|ALL IN ONE Comfor...|            Home|          1|           28|         32|   N|                Y|       Not worth it!|I purchased this ...| 2015-08-31|\n",
            "|         US|    2280598|R3IC3894IEJK1S|B00ER09BW2|     365022400|Greenland Home Fa...|            Home|          2|           32|         32|   N|                Y|Flowers don't rea...|Flowers don't rea...| 2015-08-31|\n",
            "|         US|   32576732|R2VB64562OSKEV|B00GP4RPDA|     508063292|LUCID 2 Inch Foam...|            Home|          1|            6|         24|   N|                N|Deceptive and dis...|Don't be fooled! ...| 2015-08-31|\n",
            "|         US|   52815715|R2W1OMYJERBXJ1|B00SFUVNKS|     977603375|Panasonic MC-CL94...|            Home|          5|           20|         23|   Y|                N|Compact and powerful|With pets in the ...| 2015-08-31|\n",
            "|         US|   28403355|R2TNQ0ZPP5F8D5|B00GP4RJUO|     508063292|LUCID 2 Inch Foam...|            Home|          1|            6|         24|   N|                Y|Expensive! Bad qu...|Bad quality, you ...| 2015-08-31|\n",
            "|         US|   30750792|R17CIVFMQGURJZ|B00MEV8BMM|     473737611|OxyLuv Oxytocin N...|            Home|          5|           24|         28|   N|                Y|Made orgasm possi...|I'm a 40+ male an...| 2015-08-31|\n",
            "+-----------+-----------+--------------+----------+--------------+--------------------+----------------+-----------+-------------+-----------+----+-----------------+--------------------+--------------------+-----------+\n",
            "only showing top 20 rows\n",
            "\n"
          ]
        }
      ]
    },
    {
      "cell_type": "code",
      "source": [
        "helpful_votes_df=total_votes_df.filter((total_votes_df.helpful_votes / total_votes_df.total_votes) >= 0.5)\n",
        "helpful_votes_df.show()"
      ],
      "metadata": {
        "colab": {
          "base_uri": "https://localhost:8080/"
        },
        "id": "T28oFLMhaJg9",
        "outputId": "1f9da95d-c5cb-4d2b-da3a-b5518d6b9f9b"
      },
      "execution_count": 60,
      "outputs": [
        {
          "output_type": "stream",
          "name": "stdout",
          "text": [
            "+-----------+-----------+--------------+----------+--------------+--------------------+----------------+-----------+-------------+-----------+----+-----------------+--------------------+--------------------+-----------+\n",
            "|marketplace|customer_id|     review_id|product_id|product_parent|       product_title|product_category|star_rating|helpful_votes|total_votes|vine|verified_purchase|     review_headline|         review_body|review_date|\n",
            "+-----------+-----------+--------------+----------+--------------+--------------------+----------------+-----------+-------------+-----------+----+-----------------+--------------------+--------------------+-----------+\n",
            "|         US|   32555853|R27XX9MG7OWSSM|B00CMV99HU|     475264259|5 x 20 Quality Ca...|            Home|          5|           49|         51|   N|                Y|Made Curtains out...|I bought these fo...| 2015-08-31|\n",
            "|         US|   24278614|R1I4IFDOW6IW9O|B00ZAUWZ6M|     195636450|Ellington Home 18...|            Home|          3|           44|         47|   N|                Y|Thin, slightly pl...|Ordered this for ...| 2015-08-31|\n",
            "|         US|   35722247|R2LZAV3VMLGPGS|B00LLI8RGO|      16515808|All for You 3pc R...|            Home|          3|           32|         33|   N|                Y|Nice design but W...|I ordered the Kin...| 2015-08-31|\n",
            "|         US|   40740421|R3FITR2BQI94RA|B00NCL0MAC|     361959449|Deluxe Chrome-pla...|            Home|          5|           33|         38|   N|                Y|Perfect for Limit...|I live in an apar...| 2015-08-31|\n",
            "|         US|   39387962| RWYBT1R3KPD2M|B00W2KG92Y|     150649056|Frigidaire FFRA05...|            Home|          4|          142|        163|   N|                Y|         Great Value|I'm running it in...| 2015-08-31|\n",
            "|         US|   20587147| RE4023DS92U8H|B00ZTC56L2|     705315070|Wrap-a-Nap - Trav...|            Home|          5|           26|         27|   N|                Y|My Somnolent Side...|Among the most di...| 2015-08-31|\n",
            "|         US|   12624787|R25TLB0EXZ7DJZ|B00RSGE0TG|     123292063|Superior 100% Dow...|            Home|          5|           45|         46|   N|                Y|... but I have to...|I don't usually l...| 2015-08-31|\n",
            "|         US|   25498346|R1SQKXYWU7VMW1|B00J4IDGA0|     936370623|No. 918 Cory Cott...|            Home|          2|           23|         24|   N|                Y|Snagged before re...|I really liked th...| 2015-08-31|\n",
            "|         US|   35097285| RUL6FPHYI15TA|B008HVHJDA|     685385061|O-Cedar Dual Acti...|            Home|          2|           62|         70|   N|                Y|           Two Stars|Cheaper at Costco...| 2015-08-31|\n",
            "|         US|   29045609|R1K2O880XPCW4V|B00VGMAT0W|     220671246|Janome Merlot Sew...|            Home|          2|           26|         27|   N|                Y|impossible to bal...|I wanted a small ...| 2015-08-31|\n",
            "|         US|   28078123|R2KA15AG14I5I5|B002KCO96C|     233597090|Dirt Devil SD2000...|            Home|          5|           72|         81|   N|                Y|Great little ligh...|Like This Very Mu...| 2015-08-31|\n",
            "|         US|   42690023|R3VCE57VVGPHHA|B006J23ORO|     923896332|InterDesign Cameo...|            Home|          5|           69|         71|   N|                Y|     Strong and long|I bought this rod...| 2015-08-31|\n",
            "|         US|   46068082|R3GEWL61MS0MVE|B00UHIY7J0|      55699168|Generic I Love Yo...|            Home|          5|           23|         24|   N|                Y|                LOVE|Love it! Very sof...| 2015-08-31|\n",
            "|         US|   45292393|R1X06G0PTXOA61|B00T56FK96|     765211067|ALL IN ONE Comfor...|            Home|          1|           28|         32|   N|                Y|       Not worth it!|I purchased this ...| 2015-08-31|\n",
            "|         US|    2280598|R3IC3894IEJK1S|B00ER09BW2|     365022400|Greenland Home Fa...|            Home|          2|           32|         32|   N|                Y|Flowers don't rea...|Flowers don't rea...| 2015-08-31|\n",
            "|         US|   52815715|R2W1OMYJERBXJ1|B00SFUVNKS|     977603375|Panasonic MC-CL94...|            Home|          5|           20|         23|   Y|                N|Compact and powerful|With pets in the ...| 2015-08-31|\n",
            "|         US|   30750792|R17CIVFMQGURJZ|B00MEV8BMM|     473737611|OxyLuv Oxytocin N...|            Home|          5|           24|         28|   N|                Y|Made orgasm possi...|I'm a 40+ male an...| 2015-08-31|\n",
            "|         US|   28573677|R1M8O6WQETX2EQ|B00LZYI4G2|     706565780|Umax Linen Textur...|            Home|          5|           39|         40|   N|                Y|         Great Cover|This cover is ama...| 2015-08-31|\n",
            "|         US|   46217651|R30I77Z7JCPVTR|B00BP2S8GA|      85410975|[30 PACKS] 10 Gra...|            Home|          5|           22|         22|   N|                Y|Perfect for fire ...|I purchased this ...| 2015-08-31|\n",
            "|         US|   36137863|R2BEMCDEIKZ1AZ|B00XJYTB8Q|     821129869|OXX Coffeeboxx Jo...|            Home|          5|           22|         25|   N|                Y|   Love this machine|Love this machine...| 2015-08-31|\n",
            "+-----------+-----------+--------------+----------+--------------+--------------------+----------------+-----------+-------------+-----------+----+-----------------+--------------------+--------------------+-----------+\n",
            "only showing top 20 rows\n",
            "\n"
          ]
        }
      ]
    },
    {
      "cell_type": "code",
      "source": [
        "paid_reviews_df=helpful_votes_df.filter(helpful_votes_df['vine']=='Y')\n",
        "paid_reviews_df.show()"
      ],
      "metadata": {
        "colab": {
          "base_uri": "https://localhost:8080/"
        },
        "id": "_jb0hwPzaJkD",
        "outputId": "13aa0838-7ab0-4120-ef59-73d4d78fb02a"
      },
      "execution_count": 61,
      "outputs": [
        {
          "output_type": "stream",
          "name": "stdout",
          "text": [
            "+-----------+-----------+--------------+----------+--------------+--------------------+----------------+-----------+-------------+-----------+----+-----------------+--------------------+--------------------+-----------+\n",
            "|marketplace|customer_id|     review_id|product_id|product_parent|       product_title|product_category|star_rating|helpful_votes|total_votes|vine|verified_purchase|     review_headline|         review_body|review_date|\n",
            "+-----------+-----------+--------------+----------+--------------+--------------------+----------------+-----------+-------------+-----------+----+-----------------+--------------------+--------------------+-----------+\n",
            "|         US|   52815715|R2W1OMYJERBXJ1|B00SFUVNKS|     977603375|Panasonic MC-CL94...|            Home|          5|           20|         23|   Y|                N|Compact and powerful|With pets in the ...| 2015-08-31|\n",
            "|         US|   13663596| R31VJCBBKU13Y|B0105TXVRE|     820889787|Electrolux EL4335...|            Home|          5|           24|         27|   Y|                N|It actually does ...|I consider myself...| 2015-08-28|\n",
            "|         US|   28113646|R350JNDV0INC11|B0105TXVRE|     820889787|Electrolux EL4335...|            Home|          4|          388|        398|   Y|                Y|Head to Head Comp...|We have a relativ...| 2015-08-27|\n",
            "|         US|   33244285|R2NJA2I5C9Y0FR|B010FQ4STC|     256488195|Dyson V6 Mattress...|            Home|          3|           63|         73|   Y|                N|      Mixed Feelings|I really have mix...| 2015-08-26|\n",
            "|         US|   37840725|R296RSG25RD1IX|B011LS47SA|     107908024|Bissell 1544A Pow...|            Home|          3|           46|         51|   Y|                N|        Disappointed|I was thrilled by...| 2015-08-23|\n",
            "|         US|   49082354|R3IJKA4RI56TFT|B00ZRJIOAM|     355666618|Samsung  POWERbot...|            Home|          4|           25|         30|   Y|                N|Two Furry Pets?  ...|The Samsung VR900...| 2015-08-23|\n",
            "|         US|   25947084|R1EU2LNHAWWPFI|B00ZRJIOAM|     355666618|Samsung  POWERbot...|            Home|          5|           19|         24|   Y|                N|Powerful and Smar...|Although I have n...| 2015-08-23|\n",
            "|         US|   52643790|R164L6F7QRHL8A|B00YGZFNJ8|      98136695|Dyson AM10 Humidi...|            Home|          5|           94|        109|   Y|                N|Amazing, thoughtf...|This has to be th...| 2015-08-19|\n",
            "|         US|   52949686|R3VONEXS4LRVWK|B00YGZFNJ8|      98136695|Dyson AM10 Humidi...|            Home|          3|          378|        388|   Y|                N|Excellent remote-...|This is now our t...| 2015-08-14|\n",
            "|         US|   53089636| RYO3NDB745QIW|B00SMLJQ7W|     947483047|Dyson V6 Animal C...|            Home|          5|           33|         37|   Y|                N|Great suction and...|We have a dog who...| 2015-08-13|\n",
            "|         US|   47321917|R1Q9CN3ONUQPFY|B00O0KU2V8|      20509261|  Big Boss Insta Mop|            Home|          4|           26|         27|   Y|                N|Mostly good but a...|The good - it wor...| 2015-08-12|\n",
            "|         US|   33872932|R3DOAUYPM5PRP5|B011LS47SA|     107908024|Bissell 1544A Pow...|            Home|          4|          304|        311|   Y|                N|Excellent cleanin...|I have owned at l...| 2015-08-12|\n",
            "|         US|   50908619|R1MBYFHSDKQWTR|B00YGZFNJ8|      98136695|Dyson AM10 Humidi...|            Home|          5|           15|         21|   Y|                N|Sweeeet - Germs b...|I have used every...| 2015-08-12|\n",
            "|         US|   45838866|R2HIF4HK7B30PK|B0105TXVRE|     820889787|Electrolux EL4335...|            Home|          5|           75|         80|   Y|                N|Versatile, powerf...|Electrolux canist...| 2015-08-10|\n",
            "|         US|   43335941|R3VZPEQEFY6RC9|B002Z3H5F8|     466612968|ClosetMaid ShelfT...|            Home|          4|           34|         37|   Y|                N|Make sure you get...|First, these pric...| 2015-08-09|\n",
            "|         US|   51401810|R2C65P5YI2T5U6|B0106ANJ9C|     103715813|SteamFast SF-560 ...|            Home|          5|           20|         22|   Y|                N|You’ll be steamin...|This is a great l...| 2015-08-09|\n",
            "|         US|   49598970|R3SB6ISY0UPLHY|B010814IYO|     439410028|Seville Classics ...|            Home|          5|           25|         28|   Y|                N|Sturdy and well b...|[[VIDEOID:9136b75...| 2015-08-08|\n",
            "|         US|   20594005|R3103BJSOISEON|B00G25GTNY|     113286735|Artiva USA Micah ...|            Home|          4|           19|         21|   Y|                N|Gorgeous light bu...|I had an easy tim...| 2015-08-08|\n",
            "|         US|   50738297|R3SVBM51RHF5YB|B010FQ4STC|     256488195|Dyson V6 Mattress...|            Home|          4|           78|         87|   Y|                N|So Much More Than...|Please don't be f...| 2015-08-05|\n",
            "|         US|   51930286| R7FUHZ0TN5WEX|B00YU1O15U|     450977654|Honeywell HTF210B...|            Home|          4|           24|         29|   Y|                N|Quietness is in t...|I have more than ...| 2015-08-05|\n",
            "+-----------+-----------+--------------+----------+--------------+--------------------+----------------+-----------+-------------+-----------+----+-----------------+--------------------+--------------------+-----------+\n",
            "only showing top 20 rows\n",
            "\n"
          ]
        }
      ]
    },
    {
      "cell_type": "code",
      "source": [
        "unpaid_reviews_df=helpful_votes_df.filter(helpful_votes_df['vine']=='N')\n",
        "unpaid_reviews_df.show()"
      ],
      "metadata": {
        "colab": {
          "base_uri": "https://localhost:8080/"
        },
        "id": "aN28FYmlaJoE",
        "outputId": "d01d8d31-1bd7-478c-8053-85a0bdb19774"
      },
      "execution_count": 62,
      "outputs": [
        {
          "output_type": "stream",
          "name": "stdout",
          "text": [
            "+-----------+-----------+--------------+----------+--------------+--------------------+----------------+-----------+-------------+-----------+----+-----------------+--------------------+--------------------+-----------+\n",
            "|marketplace|customer_id|     review_id|product_id|product_parent|       product_title|product_category|star_rating|helpful_votes|total_votes|vine|verified_purchase|     review_headline|         review_body|review_date|\n",
            "+-----------+-----------+--------------+----------+--------------+--------------------+----------------+-----------+-------------+-----------+----+-----------------+--------------------+--------------------+-----------+\n",
            "|         US|   32555853|R27XX9MG7OWSSM|B00CMV99HU|     475264259|5 x 20 Quality Ca...|            Home|          5|           49|         51|   N|                Y|Made Curtains out...|I bought these fo...| 2015-08-31|\n",
            "|         US|   24278614|R1I4IFDOW6IW9O|B00ZAUWZ6M|     195636450|Ellington Home 18...|            Home|          3|           44|         47|   N|                Y|Thin, slightly pl...|Ordered this for ...| 2015-08-31|\n",
            "|         US|   35722247|R2LZAV3VMLGPGS|B00LLI8RGO|      16515808|All for You 3pc R...|            Home|          3|           32|         33|   N|                Y|Nice design but W...|I ordered the Kin...| 2015-08-31|\n",
            "|         US|   40740421|R3FITR2BQI94RA|B00NCL0MAC|     361959449|Deluxe Chrome-pla...|            Home|          5|           33|         38|   N|                Y|Perfect for Limit...|I live in an apar...| 2015-08-31|\n",
            "|         US|   39387962| RWYBT1R3KPD2M|B00W2KG92Y|     150649056|Frigidaire FFRA05...|            Home|          4|          142|        163|   N|                Y|         Great Value|I'm running it in...| 2015-08-31|\n",
            "|         US|   20587147| RE4023DS92U8H|B00ZTC56L2|     705315070|Wrap-a-Nap - Trav...|            Home|          5|           26|         27|   N|                Y|My Somnolent Side...|Among the most di...| 2015-08-31|\n",
            "|         US|   12624787|R25TLB0EXZ7DJZ|B00RSGE0TG|     123292063|Superior 100% Dow...|            Home|          5|           45|         46|   N|                Y|... but I have to...|I don't usually l...| 2015-08-31|\n",
            "|         US|   25498346|R1SQKXYWU7VMW1|B00J4IDGA0|     936370623|No. 918 Cory Cott...|            Home|          2|           23|         24|   N|                Y|Snagged before re...|I really liked th...| 2015-08-31|\n",
            "|         US|   35097285| RUL6FPHYI15TA|B008HVHJDA|     685385061|O-Cedar Dual Acti...|            Home|          2|           62|         70|   N|                Y|           Two Stars|Cheaper at Costco...| 2015-08-31|\n",
            "|         US|   29045609|R1K2O880XPCW4V|B00VGMAT0W|     220671246|Janome Merlot Sew...|            Home|          2|           26|         27|   N|                Y|impossible to bal...|I wanted a small ...| 2015-08-31|\n",
            "|         US|   28078123|R2KA15AG14I5I5|B002KCO96C|     233597090|Dirt Devil SD2000...|            Home|          5|           72|         81|   N|                Y|Great little ligh...|Like This Very Mu...| 2015-08-31|\n",
            "|         US|   42690023|R3VCE57VVGPHHA|B006J23ORO|     923896332|InterDesign Cameo...|            Home|          5|           69|         71|   N|                Y|     Strong and long|I bought this rod...| 2015-08-31|\n",
            "|         US|   46068082|R3GEWL61MS0MVE|B00UHIY7J0|      55699168|Generic I Love Yo...|            Home|          5|           23|         24|   N|                Y|                LOVE|Love it! Very sof...| 2015-08-31|\n",
            "|         US|   45292393|R1X06G0PTXOA61|B00T56FK96|     765211067|ALL IN ONE Comfor...|            Home|          1|           28|         32|   N|                Y|       Not worth it!|I purchased this ...| 2015-08-31|\n",
            "|         US|    2280598|R3IC3894IEJK1S|B00ER09BW2|     365022400|Greenland Home Fa...|            Home|          2|           32|         32|   N|                Y|Flowers don't rea...|Flowers don't rea...| 2015-08-31|\n",
            "|         US|   30750792|R17CIVFMQGURJZ|B00MEV8BMM|     473737611|OxyLuv Oxytocin N...|            Home|          5|           24|         28|   N|                Y|Made orgasm possi...|I'm a 40+ male an...| 2015-08-31|\n",
            "|         US|   28573677|R1M8O6WQETX2EQ|B00LZYI4G2|     706565780|Umax Linen Textur...|            Home|          5|           39|         40|   N|                Y|         Great Cover|This cover is ama...| 2015-08-31|\n",
            "|         US|   46217651|R30I77Z7JCPVTR|B00BP2S8GA|      85410975|[30 PACKS] 10 Gra...|            Home|          5|           22|         22|   N|                Y|Perfect for fire ...|I purchased this ...| 2015-08-31|\n",
            "|         US|   36137863|R2BEMCDEIKZ1AZ|B00XJYTB8Q|     821129869|OXX Coffeeboxx Jo...|            Home|          5|           22|         25|   N|                Y|   Love this machine|Love this machine...| 2015-08-31|\n",
            "|         US|    6376026|R34AP9KC4GV107|B00O7B7IO4|     476725363|Decowall DM-1401 ...|            Home|          1|           18|         23|   N|                N|            One Star|The ruler is not ...| 2015-08-31|\n",
            "+-----------+-----------+--------------+----------+--------------+--------------------+----------------+-----------+-------------+-----------+----+-----------------+--------------------+--------------------+-----------+\n",
            "only showing top 20 rows\n",
            "\n"
          ]
        }
      ]
    },
    {
      "cell_type": "code",
      "source": [
        "total_paid_reviews=paid_reviews_df.count()\n",
        "total_paid_reviews"
      ],
      "metadata": {
        "colab": {
          "base_uri": "https://localhost:8080/"
        },
        "id": "QB8uiVIIaJra",
        "outputId": "f39f45e3-1964-439b-fedc-55f2c038066e"
      },
      "execution_count": 65,
      "outputs": [
        {
          "output_type": "execute_result",
          "data": {
            "text/plain": [
              "1448"
            ]
          },
          "metadata": {},
          "execution_count": 65
        }
      ]
    },
    {
      "cell_type": "code",
      "source": [
        "\n",
        "total_unpaid_reviews=unpaid_reviews_df.count()\n",
        "total_unpaid_reviews"
      ],
      "metadata": {
        "colab": {
          "base_uri": "https://localhost:8080/"
        },
        "id": "zA7kR4lwdeQM",
        "outputId": "7d61fb6a-91d9-4bae-9e3f-8c0a7c8dd9d7"
      },
      "execution_count": 66,
      "outputs": [
        {
          "output_type": "execute_result",
          "data": {
            "text/plain": [
              "90768"
            ]
          },
          "metadata": {},
          "execution_count": 66
        }
      ]
    },
    {
      "cell_type": "code",
      "source": [
        "fivestar_paid_reviews=paid_reviews_df.filter(paid_reviews_df['star_rating']==5).count()\n",
        "fivestar_paid_reviews"
      ],
      "metadata": {
        "colab": {
          "base_uri": "https://localhost:8080/"
        },
        "id": "hfcH2T1BdeSr",
        "outputId": "b2365112-9edb-49de-ba1d-17916049c3b4"
      },
      "execution_count": 67,
      "outputs": [
        {
          "output_type": "execute_result",
          "data": {
            "text/plain": [
              "647"
            ]
          },
          "metadata": {},
          "execution_count": 67
        }
      ]
    },
    {
      "cell_type": "code",
      "source": [
        "fivestar_unpaid_reviews=unpaid_reviews_df.filter(unpaid_reviews_df['star_rating']==5).count()\n",
        "fivestar_unpaid_reviews"
      ],
      "metadata": {
        "colab": {
          "base_uri": "https://localhost:8080/"
        },
        "id": "KyikzsIAdeVU",
        "outputId": "6c021681-a687-404a-af0b-58662202b97f"
      },
      "execution_count": 68,
      "outputs": [
        {
          "output_type": "execute_result",
          "data": {
            "text/plain": [
              "44104"
            ]
          },
          "metadata": {},
          "execution_count": 68
        }
      ]
    },
    {
      "cell_type": "code",
      "source": [
        "percentage_fivestar_paid_reviews=(fivestar_paid_reviews/total_paid_reviews)*100\n",
        "percentage_fivestar_paid_reviews"
      ],
      "metadata": {
        "colab": {
          "base_uri": "https://localhost:8080/"
        },
        "id": "EJTOYrO4deYE",
        "outputId": "9387e43c-3916-41d3-82b8-afe94efb10f6"
      },
      "execution_count": 69,
      "outputs": [
        {
          "output_type": "execute_result",
          "data": {
            "text/plain": [
              "44.68232044198895"
            ]
          },
          "metadata": {},
          "execution_count": 69
        }
      ]
    },
    {
      "cell_type": "code",
      "source": [
        "percentage_fivestar_unpaid_reviews=(fivestar_unpaid_reviews/total_unpaid_reviews)*100\n",
        "percentage_fivestar_unpaid_reviews"
      ],
      "metadata": {
        "colab": {
          "base_uri": "https://localhost:8080/"
        },
        "id": "Qpr1FEiadeak",
        "outputId": "d2bd1e1e-2cd3-46d8-901c-5abb92cfdfde"
      },
      "execution_count": 70,
      "outputs": [
        {
          "output_type": "execute_result",
          "data": {
            "text/plain": [
              "48.589811387273045"
            ]
          },
          "metadata": {},
          "execution_count": 70
        }
      ]
    },
    {
      "cell_type": "code",
      "source": [
        ""
      ],
      "metadata": {
        "id": "h3SHrt1edec9"
      },
      "execution_count": null,
      "outputs": []
    },
    {
      "cell_type": "code",
      "source": [
        ""
      ],
      "metadata": {
        "id": "nw29MvuXdefw"
      },
      "execution_count": null,
      "outputs": []
    },
    {
      "cell_type": "code",
      "source": [
        ""
      ],
      "metadata": {
        "id": "lG7NRtVsdejO"
      },
      "execution_count": null,
      "outputs": []
    }
  ]
}